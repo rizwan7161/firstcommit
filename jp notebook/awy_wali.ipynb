{
 "cells": [
  {
   "cell_type": "markdown",
   "id": "0df86e17-4709-49dd-9454-a40b1338881e",
   "metadata": {},
   "source": [
    "# Jupyter notebook"
   ]
  },
  {
   "cell_type": "code",
   "execution_count": 2,
   "id": "9259e269-9df2-4b54-b3cf-1b70ac935a89",
   "metadata": {},
   "outputs": [
    {
     "name": "stdout",
     "output_type": "stream",
     "text": [
      "python ka chilla with baba aammar\n"
     ]
    }
   ],
   "source": [
    "print(\"python ka chilla with baba aammar\")"
   ]
  },
  {
   "cell_type": "code",
   "execution_count": null,
   "id": "25b0c64c-814f-4bd8-bfbb-640289e7f235",
   "metadata": {},
   "outputs": [],
   "source": []
  }
 ],
 "metadata": {
  "kernelspec": {
   "display_name": "Python 3 (ipykernel)",
   "language": "python",
   "name": "python3"
  },
  "language_info": {
   "codemirror_mode": {
    "name": "ipython",
    "version": 3
   },
   "file_extension": ".py",
   "mimetype": "text/x-python",
   "name": "python",
   "nbconvert_exporter": "python",
   "pygments_lexer": "ipython3",
   "version": "3.12.4"
  }
 },
 "nbformat": 4,
 "nbformat_minor": 5
}
